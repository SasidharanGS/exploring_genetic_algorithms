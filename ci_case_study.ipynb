{
 "cells": [
  {
   "cell_type": "markdown",
   "id": "ff0e8d17-5c9a-4090-b25c-530b087dbe45",
   "metadata": {},
   "source": [
    "## A Sample Genetic Algorithm"
   ]
  },
  {
   "cell_type": "markdown",
   "id": "f1ba7137-b21b-4d78-b274-0bb2be3a81be",
   "metadata": {},
   "source": [
    "<hr>"
   ]
  },
  {
   "cell_type": "markdown",
   "id": "22c70d4e-ab21-48f8-80c4-60247eaf9f30",
   "metadata": {},
   "source": [
    "Aim\n",
    ": Create a genetic algorithm to generate a 10-character string that has the objective of maximising the sum of all the odd indices\n",
    "=> ideal solution : 0101010101"
   ]
  },
  {
   "cell_type": "code",
   "execution_count": 45,
   "id": "3af15015-2bab-41e3-8f7b-c7ff6449820b",
   "metadata": {},
   "outputs": [],
   "source": [
    "import random\n",
    "from deap import base, creator, tools"
   ]
  },
  {
   "cell_type": "code",
   "execution_count": 46,
   "id": "6c633431-ddce-49ea-9d87-c64a9f520e2c",
   "metadata": {},
   "outputs": [],
   "source": [
    "#Genetic Algorithm parameters\n",
    "population_size = 500\n",
    "generations = 300\n",
    "mutation_rate = 0.1\n",
    "crossover_rate = 0.7"
   ]
  },
  {
   "cell_type": "code",
   "execution_count": 47,
   "id": "b0844b1a-3201-4a33-9528-4346d13d677f",
   "metadata": {},
   "outputs": [],
   "source": [
    "# Create a Fitness class with a maximizing objective\n",
    "creator.create(\"FitnessMax\", base.Fitness, weights=(1.0,))\n",
    "\n",
    "# Create an Individual class representing the binary string\n",
    "creator.create(\"Individual\", list, fitness=creator.FitnessMax)"
   ]
  },
  {
   "cell_type": "code",
   "execution_count": 48,
   "id": "6ae61aa3-8099-4933-806d-4cf07588afc1",
   "metadata": {},
   "outputs": [],
   "source": [
    "# Define the functions for initialization, crossover, mutation\n",
    "def create_individual():\n",
    "    return [round(random.uniform(0, 1), 4) for _ in range(10)] # Binary string of length 10\n",
    "\n",
    "def crossover(parent1, parent2):\n",
    "    crossover_point = random.randint(1, len(parent1) - 1)\n",
    "    return parent1[:crossover_point] + parent2[crossover_point:], parent2[:crossover_point] + parent1[crossover_point:]\n",
    "\n",
    "def mutate(individual):\n",
    "    mutation_point = random.randint(0, len(individual) - 1)\n",
    "    individual[mutation_point] = 1 - individual[mutation_point]  # Flip 0 to 1 or 1 to 0\n",
    "    return individual,"
   ]
  },
  {
   "cell_type": "code",
   "execution_count": 49,
   "id": "bedbfc6c-006f-4027-bb83-69582c1a4e21",
   "metadata": {},
   "outputs": [],
   "source": [
    "# Define the function for evaluation\n",
    "def evaluate(individual):\n",
    "    # Sum the values at odd indices (1-based indexing)\n",
    "    sum_odd_indices = sum(individual[1::2])\n",
    "    return (sum_odd_indices)"
   ]
  },
  {
   "cell_type": "code",
   "execution_count": 50,
   "id": "d614f149-35bd-47aa-a6f6-ea9a57b59702",
   "metadata": {},
   "outputs": [],
   "source": [
    "# builtin functions:\n",
    "# toolbox.register(\"cross\", tools.cxTwoPoint)\n",
    "# toolbox.register(\"mutate\", tools.mutFlipBit, indpb=mutation_rate)\n",
    "# toolbox.register(\"select\", tools.selTournament, tournsize=3)"
   ]
  },
  {
   "cell_type": "code",
   "execution_count": 51,
   "id": "d14f9faa-0adc-4b18-af25-1b7470e6022d",
   "metadata": {},
   "outputs": [],
   "source": [
    "# Create the toolbox with the defined functions\n",
    "toolbox = base.Toolbox()\n",
    "toolbox.register(\"individual\", tools.initIterate, creator.Individual, create_individual)\n",
    "toolbox.register(\"population\", tools.initRepeat, list, toolbox.individual)\n",
    "toolbox.register(\"cross\", crossover)\n",
    "toolbox.register(\"mutate\", mutate)\n",
    "toolbox.register(\"select\", tools.selTournament, tournsize=3)\n",
    "toolbox.register(\"evaluate\", evaluate)"
   ]
  },
  {
   "cell_type": "code",
   "execution_count": 52,
   "id": "93c81bb6-5867-4f06-b044-5df9bb65acb6",
   "metadata": {},
   "outputs": [],
   "source": [
    "# Generate the initial population\n",
    "population = toolbox.population(n=population_size)\n",
    "\n",
    "# Evaluate the entire population\n",
    "fitnesses = list(map(toolbox.evaluate, population))"
   ]
  },
  {
   "cell_type": "code",
   "execution_count": 53,
   "id": "1678f111-9095-4a17-b743-0ab927a3af36",
   "metadata": {},
   "outputs": [],
   "source": [
    "for ind, fit in zip(population, fitnesses):\n",
    "    ind.fitness.values = (fit,)"
   ]
  },
  {
   "cell_type": "code",
   "execution_count": 54,
   "id": "cf18651d-db8e-468a-b3ad-e5bafc801384",
   "metadata": {},
   "outputs": [],
   "source": [
    "# Evolutionary process\n",
    "for gen in range(generations):\n",
    "    offspring = toolbox.select(population, len(population))\n",
    "    offspring = list(offspring)\n",
    "\n",
    "    # Clone the selected individuals\n",
    "    offspring = list(map(toolbox.clone, offspring))\n",
    "\n",
    "    # Apply crossover and mutation\n",
    "    for child1, child2 in zip(offspring[::2], offspring[1::2]):\n",
    "        if random.random() < crossover_rate:\n",
    "            toolbox.cross(child1, child2)\n",
    "            del child1.fitness.values\n",
    "            del child2.fitness.values\n",
    "\n",
    "    for mutant in offspring:\n",
    "        if random.random() < mutation_rate:\n",
    "            toolbox.mutate(mutant)\n",
    "            del mutant.fitness.values\n",
    "\n",
    "    # Evaluate offspring\n",
    "    fitnesses = list(map(toolbox.evaluate, offspring))\n",
    "    for ind, fit in zip(offspring, fitnesses):\n",
    "        ind.fitness.values = (fit,)\n",
    "\n",
    "    # Replace the old population with the offspring\n",
    "    population[:] = offspring"
   ]
  },
  {
   "cell_type": "code",
   "execution_count": 61,
   "id": "fcf91c1a-cb1e-4270-a038-ffa972a8a02d",
   "metadata": {},
   "outputs": [
    {
     "name": "stdout",
     "output_type": "stream",
     "text": [
      "Top Individual 1: [0.2569, 0.7218, 0.43110000000000004, 0.8213, 0.4526, 0.9778, 0.39969999999999994, 0.7843, 0.5942, 0.9975]\n",
      "Fitness: 4.3027\n",
      "\n",
      "Top Individual 2: [0.7431, 0.7218, 0.5689, 0.8213, 0.5474, 0.9778, 0.6003000000000001, 0.7843, 0.40580000000000005, 0.9975]\n",
      "Fitness: 4.3027\n",
      "\n",
      "Top Individual 3: [0.2569, 0.7218, 0.43110000000000004, 0.8213, 0.5474, 0.9778, 0.39969999999999994, 0.7843, 0.40580000000000005, 0.9975]\n",
      "Fitness: 4.3027\n",
      "\n"
     ]
    }
   ],
   "source": [
    "# Print the best individuals at the end of the evolution\n",
    "best_inds = tools.selBest(population, k=3)\n",
    "for i, best_ind in enumerate(best_inds):\n",
    "    print(f\"Top Individual {i + 1}: {best_ind}\")\n",
    "    print(f\"Fitness: {best_ind.fitness.values[0]}\\n\")\n"
   ]
  }
 ],
 "metadata": {
  "kernelspec": {
   "display_name": "ci_casestudy",
   "language": "python",
   "name": "ci_casestudy"
  },
  "language_info": {
   "codemirror_mode": {
    "name": "ipython",
    "version": 3
   },
   "file_extension": ".py",
   "mimetype": "text/x-python",
   "name": "python",
   "nbconvert_exporter": "python",
   "pygments_lexer": "ipython3",
   "version": "3.11.5"
  }
 },
 "nbformat": 4,
 "nbformat_minor": 5
}
